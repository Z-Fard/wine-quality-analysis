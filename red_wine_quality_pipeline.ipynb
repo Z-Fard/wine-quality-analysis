{
 "cells": [
  {
   "cell_type": "code",
   "execution_count": 1,
   "id": "d935fb96",
   "metadata": {},
   "outputs": [],
   "source": [
    "import pandas as pd\n",
    "import numpy as np\n",
    "import seaborn as sns\n",
    "import matplotlib.pyplot as plt\n",
    "from sklearn import metrics\n"
   ]
  },
  {
   "cell_type": "code",
   "execution_count": 6,
   "id": "8bea83f0",
   "metadata": {},
   "outputs": [],
   "source": [
    "wine = pd.read_csv('winequality-red.csv', sep=';')"
   ]
  },
  {
   "cell_type": "code",
   "execution_count": 5,
   "id": "2773d589",
   "metadata": {},
   "outputs": [
    {
     "data": {
      "text/plain": [
       "(1599, 12)"
      ]
     },
     "execution_count": 5,
     "metadata": {},
     "output_type": "execute_result"
    }
   ],
   "source": [
    "bins = (1,5,10)\n",
    "group_names = [1,2]\n",
    "wine['quality'] = pd.cut(wine['quality'], bins = bins, labels = group_names)\n",
    "wine.shape"
   ]
  },
  {
   "cell_type": "code",
   "execution_count": 8,
   "id": "0e82490a",
   "metadata": {},
   "outputs": [],
   "source": [
    "X = np.array(wine.iloc[:, :11])\n",
    "\n",
    "y = np.array(wine.iloc[:, 11])"
   ]
  },
  {
   "cell_type": "code",
   "execution_count": 58,
   "id": "8c86e0ef",
   "metadata": {},
   "outputs": [],
   "source": [
    "from sklearn.preprocessing import StandardScaler\n",
    "from sklearn.model_selection import train_test_split\n",
    "from sklearn.decomposition import PCA\n",
    "from sklearn.pipeline import Pipeline\n",
    "from sklearn.linear_model import LogisticRegression\n",
    "from sklearn.svm import SVC\n",
    "from sklearn.neighbors import KNeighborsClassifier\n",
    "from sklearn.ensemble import RandomForestClassifier"
   ]
  },
  {
   "cell_type": "code",
   "execution_count": 74,
   "id": "01d336c4",
   "metadata": {},
   "outputs": [
    {
     "name": "stdout",
     "output_type": "stream",
     "text": [
      "Support vector Accuracy: 0.6375\n",
      "Logistic regression Accuracy: 0.6425\n",
      "Knn classifier Accuracy: 0.5575\n",
      "Random forest Accuracy: 0.7175\n"
     ]
    }
   ],
   "source": [
    "#Train-Test split\n",
    "X_train, X_test, y_train, y_test = train_test_split(X, y, test_size = 0.25, random_state = 0)\n",
    "\n",
    "\n",
    "#Make a Pipelines\n",
    "pipeline_svm= Pipeline([('sc0', StandardScaler()),\n",
    "                        ('pca0',PCA(n_components=9)),\n",
    "                      ('svm_clf', SVC())])\n",
    "\n",
    "pipeline_lr= Pipeline([('sc1', StandardScaler()),\n",
    "                       ('pca1',PCA(n_components=9)),\n",
    "                      ('lr_clf', LogisticRegression(random_state=0))])\n",
    "\n",
    "pipeline_knn=Pipeline([('scalar2',StandardScaler()),\n",
    "                     ('pca2',PCA(n_components=9)),\n",
    "                     ('knn_classifier',KNeighborsClassifier())])\n",
    "\n",
    "pipeline_random_forest=Pipeline([('scalar3',StandardScaler()),\n",
    "                     ('pca3',PCA(n_components=9)),\n",
    "                     ('knn_classifier',RandomForestClassifier())])\n",
    "\n",
    "\n",
    "pipelines= [pipeline_svm, pipeline_lr, pipeline_knn,pipeline_random_forest]\n",
    "\n",
    "pip_dic= {0 : 'Support vector',\n",
    "         1: 'Logistic regression',\n",
    "         2: 'Knn classifier',\n",
    "         3: 'Random forest'}\n",
    "\n",
    "for pipes in pipelines:\n",
    "    pipes.fit(X_train, y_train)\n",
    "    \n",
    "    \n",
    "for i, model in enumerate(pipelines):\n",
    "    print('{} Accuracy: {}'.format(pip_dic[i], model.score(X_test,y_test)))"
   ]
  },
  {
   "cell_type": "code",
   "execution_count": 86,
   "id": "d5f03c87",
   "metadata": {},
   "outputs": [
    {
     "data": {
      "text/plain": [
       "0.655"
      ]
     },
     "execution_count": 86,
     "metadata": {},
     "output_type": "execute_result"
    }
   ],
   "source": [
    "#HyperParameter Tuning\n",
    "\n",
    "from sklearn.model_selection import GridSearchCV, cross_val_score\n",
    "from sklearn.pipeline import make_pipeline\n",
    "\n",
    "\n",
    "model= make_pipeline(StandardScaler(),PCA(n_components=9),SVC())\n",
    "\n",
    "\n",
    "param = [{\n",
    "    \"svc\": [SVC()],\n",
    "\"svc__C\":[0.1, 0.5, 0.8,0.9,1,1.1,1.2,1.3,1.4],                    \n",
    " \"svc__kernel\":['rbf'],                 \n",
    " \"svc__gamma\":[0.01, 0.05, 0.1,0.8,0.9,1,1.1,1.2,1.3,1.4],\n",
    "}]\n",
    "\n",
    "grid_svc = GridSearchCV(model, param_grid = param, scoring = 'accuracy', cv = 5)\n",
    "best_model = grid_svc.fit(X_train,y_train)\n",
    "best_model.score(X_test,y_test)"
   ]
  },
  {
   "cell_type": "code",
   "execution_count": 87,
   "id": "20a6d55a",
   "metadata": {},
   "outputs": [
    {
     "data": {
      "text/plain": [
       "{'svc': SVC(C=1, gamma=1.1),\n",
       " 'svc__C': 1,\n",
       " 'svc__gamma': 1.1,\n",
       " 'svc__kernel': 'rbf'}"
      ]
     },
     "execution_count": 87,
     "metadata": {},
     "output_type": "execute_result"
    }
   ],
   "source": [
    "grid_svc.best_params_"
   ]
  },
  {
   "cell_type": "code",
   "execution_count": null,
   "id": "07a7634b",
   "metadata": {},
   "outputs": [],
   "source": []
  }
 ],
 "metadata": {
  "kernelspec": {
   "display_name": "Python 3 (ipykernel)",
   "language": "python",
   "name": "python3"
  },
  "language_info": {
   "codemirror_mode": {
    "name": "ipython",
    "version": 3
   },
   "file_extension": ".py",
   "mimetype": "text/x-python",
   "name": "python",
   "nbconvert_exporter": "python",
   "pygments_lexer": "ipython3",
   "version": "3.8.5"
  }
 },
 "nbformat": 4,
 "nbformat_minor": 5
}
